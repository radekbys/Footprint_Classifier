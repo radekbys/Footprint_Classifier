{
 "cells": [
  {
   "cell_type": "code",
   "execution_count": 1,
   "id": "c8f01aa2",
   "metadata": {},
   "outputs": [],
   "source": [
    "import torch, torchvision\n",
    "from torch import nn\n",
    "from torchvision.datasets import ImageFolder\n",
    "from torchvision.transforms import v2\n",
    "from PIL import Image\n",
    "from torch.utils.data import DataLoader, random_split\n",
    "from torchmetrics import Accuracy, Precision, Recall\n",
    "import torch.nn.functional as F\n",
    "\n",
    "\n",
    "device = \"cuda\" if torch.cuda.is_available() else \"cpu\"\n"
   ]
  },
  {
   "cell_type": "code",
   "execution_count": 2,
   "id": "509c69ab",
   "metadata": {},
   "outputs": [],
   "source": [
    "# defining class that will load all images into ram memory\n",
    "\n",
    "class InMemoryImageFolder(torch.utils.data.Dataset):\n",
    "    def __init__(self, root, transform=None):\n",
    "        self.dataset = ImageFolder(root=root)\n",
    "        self.transform = transform\n",
    "\n",
    "        # Load all images into memory\n",
    "        self.images = []\n",
    "        self.labels = []\n",
    "\n",
    "        for path, label in self.dataset.samples:\n",
    "            image = Image.open(path).convert('L') # L for grayscale\n",
    "            if self.transform:\n",
    "                image = self.transform(image)\n",
    "            self.images.append(image)\n",
    "            \n",
    "            if label == 0:\n",
    "                label = 1.0\n",
    "            else:\n",
    "                label = 0.0\n",
    "            \n",
    "            self.labels.append(label)\n",
    "\n",
    "    def __len__(self):\n",
    "        return len(self.images)\n",
    "\n",
    "    def __getitem__(self, idx):\n",
    "        return self.images[idx], self.labels[idx]"
   ]
  },
  {
   "cell_type": "code",
   "execution_count": 3,
   "id": "df7b0e3d",
   "metadata": {},
   "outputs": [],
   "source": [
    "# loading the dataset\n",
    "\n",
    "transforms = v2.Compose([v2.ToImage(), v2.ToDtype(torch.float32, scale=True)])\n",
    "\n",
    "dataset = InMemoryImageFolder(root=\"./dataset\", transform=transforms)"
   ]
  },
  {
   "cell_type": "code",
   "execution_count": 4,
   "id": "2c9e9512",
   "metadata": {},
   "outputs": [
    {
     "data": {
      "text/plain": [
       "torch.Size([1, 360, 640])"
      ]
     },
     "execution_count": 4,
     "metadata": {},
     "output_type": "execute_result"
    }
   ],
   "source": [
    "dataset.images[0].shape"
   ]
  },
  {
   "cell_type": "code",
   "execution_count": 5,
   "id": "4db3f96e",
   "metadata": {},
   "outputs": [
    {
     "data": {
      "text/plain": [
       "(11232, 1248)"
      ]
     },
     "execution_count": 5,
     "metadata": {},
     "output_type": "execute_result"
    }
   ],
   "source": [
    "# dividing dataset into train and test\n",
    "\n",
    "train_size = int(0.9 * len(dataset))\n",
    "test_size = len(dataset) - train_size\n",
    "\n",
    "generator = torch.Generator().manual_seed(42)   # generator must be added for shuffling of data\n",
    "\n",
    "train_dataset, test_dataset = random_split(dataset, [train_size, test_size], generator = torch.Generator().manual_seed(42))\n",
    "len(train_dataset), len(test_dataset)"
   ]
  },
  {
   "cell_type": "code",
   "execution_count": 6,
   "id": "7d8c7187",
   "metadata": {},
   "outputs": [],
   "source": [
    "# creating dataloaders\n",
    "\n",
    "train_loader = DataLoader(train_dataset, batch_size=8, shuffle=True)\n",
    "test_loader = DataLoader(test_dataset, batch_size=8, shuffle=False)"
   ]
  },
  {
   "cell_type": "code",
   "execution_count": null,
   "id": "b7e9822b",
   "metadata": {},
   "outputs": [],
   "source": [
    "# Defining convolutional model\n",
    "\n",
    "class BinaryFootprintClassifierModel(torch.nn.Module):\n",
    "    def __init__(self):\n",
    "        super().__init__() \n",
    "        \n",
    "        self.target_size = (360, 640)  # (height, width)\n",
    "        \n",
    "        self.layers1 = nn.Sequential(\n",
    "            # convolutional layers\n",
    "            nn.Conv2d(in_channels=1, out_channels=8, kernel_size=5, padding=2, stride=1),\n",
    "            nn.LeakyReLU(),\n",
    "            nn.Conv2d(in_channels=8, out_channels=32, kernel_size=3, padding=1, stride=1),\n",
    "            nn.LeakyReLU(),\n",
    "            \n",
    "            # pooling and dropout layers\n",
    "            nn.MaxPool2d(kernel_size=5, stride=3),\n",
    "            nn.MaxPool2d(kernel_size=3, stride=2),\n",
    "            nn.Dropout2d(p=0.1),\n",
    "        )\n",
    "            \n",
    "        # deep layers\n",
    "        self.layers2 = nn.Sequential(\n",
    "            nn.Flatten(start_dim=1, end_dim=-1),\n",
    "            nn.Linear(in_features=198240, out_features=1024),\n",
    "            nn.LeakyReLU(),\n",
    "            nn.Dropout(p=0.3),\n",
    "            nn.Linear(in_features=1024, out_features=128),\n",
    "            nn.LeakyReLU(),\n",
    "            nn.Dropout(p=0.3),\n",
    "            nn.Linear(in_features=128, out_features=1),\n",
    "        )\n",
    "        \n",
    "    def forward(self, x):\n",
    "        \n",
    "        x = F.interpolate(x, size=self.target_size, mode='bilinear', align_corners=False)\n",
    "        \n",
    "        return self.layers2(self.layers1(x))\n",
    "    \n",
    "model = BinaryFootprintClassifierModel().to(device)"
   ]
  },
  {
   "cell_type": "code",
   "execution_count": 8,
   "id": "c8897bf8",
   "metadata": {},
   "outputs": [],
   "source": [
    "# definning optimoizer and loss function\n",
    "\n",
    "optimizer = torch.optim.Adam(params=model.parameters(), lr=0.00001)\n",
    "lossfn = torch.nn.BCEWithLogitsLoss(pos_weight=torch.tensor([7]).to(device)).to(device)     # class 0 is 7 times more common that class 1, dataset is not balanced"
   ]
  },
  {
   "cell_type": "code",
   "execution_count": null,
   "id": "e6fa8b94",
   "metadata": {},
   "outputs": [
    {
     "name": "stdout",
     "output_type": "stream",
     "text": [
      "epoch 0 | training loss 0.9081 | testing loss 0.6018 | acc: 0.7893 | prec: 0.3741 | recall: 0.9563\n",
      "epoch 1 | training loss 0.6292 | testing loss 0.5120 | acc: 0.9223 | prec: 0.6438 | recall: 0.8813\n",
      "epoch 2 | training loss 0.5137 | testing loss 0.4093 | acc: 0.8694 | prec: 0.4951 | recall: 0.9500\n",
      "epoch 3 | training loss 0.4422 | testing loss 0.3405 | acc: 0.9119 | prec: 0.6000 | recall: 0.9375\n",
      "epoch 4 | training loss 0.3758 | testing loss 0.3193 | acc: 0.9103 | prec: 0.5938 | recall: 0.9500\n",
      "epoch 5 | training loss 0.3376 | testing loss 0.3234 | acc: 0.8886 | prec: 0.5356 | recall: 0.9875\n",
      "epoch 6 | training loss 0.2770 | testing loss 0.2665 | acc: 0.9359 | prec: 0.6724 | recall: 0.9750\n",
      "epoch 7 | training loss 0.2563 | testing loss 0.2439 | acc: 0.9551 | prec: 0.7500 | recall: 0.9750\n",
      "epoch 8 | training loss 0.2101 | testing loss 0.2229 | acc: 0.9599 | prec: 0.7696 | recall: 0.9812\n",
      "epoch 9 | training loss 0.1812 | testing loss 0.2334 | acc: 0.9599 | prec: 0.7750 | recall: 0.9688\n",
      "epoch 10 | training loss 0.1559 | testing loss 0.2486 | acc: 0.9720 | prec: 0.8571 | recall: 0.9375\n",
      "epoch 11 | training loss 0.1301 | testing loss 0.1830 | acc: 0.9663 | prec: 0.7980 | recall: 0.9875\n",
      "epoch 12 | training loss 0.1127 | testing loss 0.1799 | acc: 0.9720 | prec: 0.8272 | recall: 0.9875\n",
      "epoch 13 | training loss 0.0980 | testing loss 0.1887 | acc: 0.9784 | prec: 0.8715 | recall: 0.9750\n",
      "epoch 14 | training loss 0.0845 | testing loss 0.1460 | acc: 0.9856 | prec: 0.9080 | recall: 0.9875\n",
      "epoch 15 | training loss 0.0769 | testing loss 0.1547 | acc: 0.9800 | prec: 0.8729 | recall: 0.9875\n",
      "epoch 16 | training loss 0.0616 | testing loss 0.1441 | acc: 0.9824 | prec: 0.8876 | recall: 0.9875\n",
      "epoch 17 | training loss 0.0527 | testing loss 0.1517 | acc: 0.9888 | prec: 0.9294 | recall: 0.9875\n",
      "epoch 18 | training loss 0.0450 | testing loss 0.1335 | acc: 0.9888 | prec: 0.9294 | recall: 0.9875\n",
      "epoch 19 | training loss 0.0352 | testing loss 0.1563 | acc: 0.9896 | prec: 0.9349 | recall: 0.9875\n"
     ]
    }
   ],
   "source": [
    "# creating training loop\n",
    "\n",
    "epochs = 20\n",
    "\n",
    "for epoch in range(epochs):\n",
    "    training_losses = []\n",
    "    \n",
    "    # training loop\n",
    "    for X, y in train_loader:\n",
    "        X = X.to(device)\n",
    "        y = y.to(torch.float32).unsqueeze(1).to(device)     \n",
    "        \n",
    "        model.train()\n",
    "        logits = model(X)  \n",
    "        loss = lossfn(logits, y)\n",
    "        \n",
    "        training_losses.append(loss.item())\n",
    "        optimizer.zero_grad()\n",
    "        loss.backward()\n",
    "        optimizer.step()\n",
    "    \n",
    "    # testing loop\n",
    "    if epoch % 1 == 0:\n",
    "        avg_training_loss = sum(training_losses)/len(training_losses)\n",
    "        testing_losses = []\n",
    "        accuracy = Accuracy(task='binary').to(device)\n",
    "        precision = Precision(task='binary').to(device)\n",
    "        recall = Recall(task=\"binary\").to(device)\n",
    "\n",
    "        model.eval()\n",
    "        with torch.inference_mode():\n",
    "            \n",
    "            for X, y in test_loader:\n",
    "                X = X.to(device)\n",
    "                y = y.to(torch.float32).unsqueeze(1).to(device)\n",
    "                \n",
    "                logits = model(X)\n",
    "                probs = torch.sigmoid(logits)\n",
    "                preds = (probs>0.5).int()\n",
    "                \n",
    "                \n",
    "                testing_loss = lossfn(logits, y)\n",
    "                testing_losses.append(testing_loss.item())\n",
    "                \n",
    "                accuracy.update(preds, y.int())\n",
    "                precision.update(preds, y.int())\n",
    "                recall.update(preds, y.int())\n",
    "    \n",
    "    \n",
    "    \n",
    "        avg_testing_loss = sum(testing_losses)/len(testing_losses)\n",
    "        acc = accuracy.compute().item()\n",
    "        prec = precision.compute().item()\n",
    "        rec = recall.compute().item()\n",
    "        \n",
    "        print(f\"epoch {epoch} | training loss {avg_training_loss:.4f} | testing loss {avg_testing_loss:.4f} | acc: {acc:.4f} | prec: {prec:.4f} | recall: {rec:.4f}\")\n",
    "        \n",
    "        # saving model progress to file\n",
    "        if (epoch+1) % 5 == 0:\n",
    "            torch.save(model.state_dict(), f\"./models/ver_1/after_epoch_{epoch+1}.pth\")\n",
    "        "
   ]
  }
 ],
 "metadata": {
  "kernelspec": {
   "display_name": ".venv",
   "language": "python",
   "name": "python3"
  },
  "language_info": {
   "codemirror_mode": {
    "name": "ipython",
    "version": 3
   },
   "file_extension": ".py",
   "mimetype": "text/x-python",
   "name": "python",
   "nbconvert_exporter": "python",
   "pygments_lexer": "ipython3",
   "version": "3.12.3"
  }
 },
 "nbformat": 4,
 "nbformat_minor": 5
}
