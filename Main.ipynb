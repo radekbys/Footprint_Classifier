{
 "cells": [
  {
   "cell_type": "code",
   "execution_count": 4,
   "id": "c8f01aa2",
   "metadata": {},
   "outputs": [],
   "source": [
    "import torch, torchvision\n",
    "from torch import nn\n",
    "from torchvision.datasets import ImageFolder\n",
    "from torchvision.transforms import v2\n",
    "from PIL import Image\n",
    "from torch.utils.data import DataLoader, random_split\n",
    "from torchmetrics import Accuracy, Precision, Recall\n",
    "import torch.nn.functional as F\n",
    "\n",
    "\n",
    "device = \"cuda\" if torch.cuda.is_available() else \"cpu\"\n"
   ]
  },
  {
   "cell_type": "code",
   "execution_count": 5,
   "id": "509c69ab",
   "metadata": {},
   "outputs": [],
   "source": [
    "# defining class that will load all images into ram memory\n",
    "\n",
    "class InMemoryImageFolder(torch.utils.data.Dataset):\n",
    "    def __init__(self, root, transform=None):\n",
    "        self.dataset = ImageFolder(root=root)\n",
    "        self.transform = transform\n",
    "\n",
    "        # Load all images into memory\n",
    "        self.images = []\n",
    "        self.labels = []\n",
    "\n",
    "        for path, label in self.dataset.samples:\n",
    "            image = Image.open(path).convert('L') # L for grayscale\n",
    "            if self.transform:\n",
    "                image = self.transform(image)\n",
    "            self.images.append(image)\n",
    "            \n",
    "            if label == 0:\n",
    "                label = 0.0\n",
    "            else:\n",
    "                label = 1.0\n",
    "            \n",
    "            self.labels.append(label)\n",
    "\n",
    "    def __len__(self):\n",
    "        return len(self.images)\n",
    "\n",
    "    def __getitem__(self, idx):\n",
    "        return self.images[idx], self.labels[idx]"
   ]
  },
  {
   "cell_type": "code",
   "execution_count": 6,
   "id": "df7b0e3d",
   "metadata": {},
   "outputs": [],
   "source": [
    "# loading the dataset\n",
    "\n",
    "transforms = v2.Compose([v2.ToImage(), v2.ToDtype(torch.float32, scale=True)])\n",
    "\n",
    "dataset = InMemoryImageFolder(root=\"./dataset\", transform=transforms)"
   ]
  },
  {
   "cell_type": "code",
   "execution_count": 7,
   "id": "2c9e9512",
   "metadata": {},
   "outputs": [
    {
     "data": {
      "text/plain": [
       "torch.Size([1, 360, 640])"
      ]
     },
     "execution_count": 7,
     "metadata": {},
     "output_type": "execute_result"
    }
   ],
   "source": [
    "dataset.images[0].shape"
   ]
  },
  {
   "cell_type": "code",
   "execution_count": 8,
   "id": "4db3f96e",
   "metadata": {},
   "outputs": [
    {
     "data": {
      "text/plain": [
       "(11232, 1248)"
      ]
     },
     "execution_count": 8,
     "metadata": {},
     "output_type": "execute_result"
    }
   ],
   "source": [
    "# dividing dataset into train and test\n",
    "\n",
    "train_size = int(0.9 * len(dataset))\n",
    "test_size = len(dataset) - train_size\n",
    "\n",
    "generator = torch.Generator().manual_seed(42)   # generator must be added for shuffling of data\n",
    "\n",
    "train_dataset, test_dataset = random_split(dataset, [train_size, test_size], generator = torch.Generator().manual_seed(42))\n",
    "len(train_dataset), len(test_dataset)"
   ]
  },
  {
   "cell_type": "code",
   "execution_count": 9,
   "id": "7d8c7187",
   "metadata": {},
   "outputs": [],
   "source": [
    "# creating dataloaders\n",
    "\n",
    "train_loader = DataLoader(train_dataset, batch_size=8, shuffle=True)\n",
    "test_loader = DataLoader(test_dataset, batch_size=8, shuffle=False)"
   ]
  },
  {
   "cell_type": "code",
   "execution_count": 10,
   "id": "b7e9822b",
   "metadata": {},
   "outputs": [],
   "source": [
    "# Defining convolutional model\n",
    "\n",
    "class BinaryFootprintClassifierModel(torch.nn.Module):\n",
    "    def __init__(self):\n",
    "        super().__init__() \n",
    "        \n",
    "        self.layers1 = nn.Sequential(\n",
    "            # convolutional layers\n",
    "            nn.Conv2d(in_channels=1, out_channels=8, kernel_size=5, padding=2, stride=2),\n",
    "            nn.LeakyReLU(),\n",
    "            nn.Conv2d(in_channels=8, out_channels=32, kernel_size=3, padding=1, stride=3),\n",
    "            nn.LeakyReLU(),\n",
    "            \n",
    "            # pooling and dropout layers\n",
    "            nn.MaxPool2d(kernel_size=5, stride=3),\n",
    "            nn.MaxPool2d(kernel_size=3, stride=2),\n",
    "            nn.Dropout2d(p=0.1),\n",
    "        )\n",
    "            \n",
    "        # deep layers\n",
    "        self.layers2 = nn.Sequential(\n",
    "            nn.Flatten(start_dim=1, end_dim=-1),\n",
    "            nn.Linear(in_features=4896, out_features=1024),\n",
    "            nn.LeakyReLU(),\n",
    "            nn.Dropout(p=0.3),\n",
    "            nn.Linear(in_features=1024, out_features=128),\n",
    "            nn.LeakyReLU(),\n",
    "            nn.Dropout(p=0.3),\n",
    "            nn.Linear(in_features=128, out_features=1),\n",
    "        )\n",
    "        \n",
    "    def forward(self, x):\n",
    "        \n",
    "        return self.layers2(self.layers1(x))\n",
    "    \n",
    "model = BinaryFootprintClassifierModel().to(device)"
   ]
  },
  {
   "cell_type": "code",
   "execution_count": 11,
   "id": "c8897bf8",
   "metadata": {},
   "outputs": [],
   "source": [
    "# definning optimoizer and loss function\n",
    "\n",
    "optimizer = torch.optim.Adam(params=model.parameters(), lr=0.00001)\n",
    "lossfn = torch.nn.BCEWithLogitsLoss(pos_weight=torch.tensor([7]).to(device)).to(device)     # class 0 is 7 times more common that class 1, dataset is not balanced"
   ]
  },
  {
   "cell_type": "code",
   "execution_count": 12,
   "id": "e6fa8b94",
   "metadata": {},
   "outputs": [
    {
     "name": "stdout",
     "output_type": "stream",
     "text": [
      "epoch 4 | training loss 0.7318 | testing loss 0.6383 | acc: 0.8718 | prec: 0.4553 | recall: 0.7698\n",
      "epoch 9 | training loss 0.5582 | testing loss 0.4798 | acc: 0.8550 | prec: 0.4295 | recall: 0.9209\n",
      "epoch 14 | training loss 0.4306 | testing loss 0.3627 | acc: 0.8934 | prec: 0.5114 | recall: 0.9712\n",
      "epoch 19 | training loss 0.3421 | testing loss 0.2919 | acc: 0.9143 | prec: 0.5672 | recall: 0.9712\n",
      "epoch 24 | training loss 0.2711 | testing loss 0.2726 | acc: 0.9503 | prec: 0.7200 | recall: 0.9065\n",
      "epoch 29 | training loss 0.2277 | testing loss 0.2080 | acc: 0.9455 | prec: 0.6749 | recall: 0.9856\n",
      "epoch 34 | training loss 0.1855 | testing loss 0.1894 | acc: 0.9439 | prec: 0.6651 | recall: 1.0000\n",
      "epoch 39 | training loss 0.1512 | testing loss 0.1890 | acc: 0.9679 | prec: 0.8075 | recall: 0.9353\n",
      "epoch 44 | training loss 0.1209 | testing loss 0.1468 | acc: 0.9704 | prec: 0.8110 | recall: 0.9568\n",
      "epoch 49 | training loss 0.1028 | testing loss 0.1194 | acc: 0.9744 | prec: 0.8323 | recall: 0.9640\n",
      "epoch 54 | training loss 0.0801 | testing loss 0.0938 | acc: 0.9728 | prec: 0.8070 | recall: 0.9928\n",
      "epoch 59 | training loss 0.0582 | testing loss 0.0765 | acc: 0.9808 | prec: 0.8528 | recall: 1.0000\n",
      "epoch 64 | training loss 0.0515 | testing loss 0.0693 | acc: 0.9832 | prec: 0.8734 | recall: 0.9928\n",
      "epoch 69 | training loss 0.0405 | testing loss 0.0688 | acc: 0.9848 | prec: 0.8896 | recall: 0.9856\n",
      "epoch 74 | training loss 0.0343 | testing loss 0.0448 | acc: 0.9912 | prec: 0.9324 | recall: 0.9928\n",
      "epoch 79 | training loss 0.0272 | testing loss 0.0424 | acc: 0.9904 | prec: 0.9205 | recall: 1.0000\n",
      "epoch 84 | training loss 0.0255 | testing loss 0.0479 | acc: 0.9912 | prec: 0.9444 | recall: 0.9784\n",
      "epoch 89 | training loss 0.0120 | testing loss 0.0290 | acc: 0.9944 | prec: 0.9583 | recall: 0.9928\n",
      "epoch 94 | training loss 0.0178 | testing loss 0.0280 | acc: 0.9928 | prec: 0.9392 | recall: 1.0000\n",
      "epoch 99 | training loss 0.0099 | testing loss 0.0510 | acc: 0.9952 | prec: 0.9716 | recall: 0.9856\n",
      "epoch 104 | training loss 0.0078 | testing loss 0.0383 | acc: 0.9944 | prec: 0.9648 | recall: 0.9856\n",
      "epoch 109 | training loss 0.0087 | testing loss 0.0255 | acc: 0.9952 | prec: 0.9650 | recall: 0.9928\n",
      "epoch 114 | training loss 0.0091 | testing loss 0.0190 | acc: 0.9960 | prec: 0.9653 | recall: 1.0000\n",
      "epoch 119 | training loss 0.0086 | testing loss 0.0320 | acc: 0.9960 | prec: 0.9718 | recall: 0.9928\n"
     ]
    }
   ],
   "source": [
    "# creating training loop\n",
    "\n",
    "epochs = 120\n",
    "\n",
    "for epoch in range(epochs):\n",
    "    training_losses = []\n",
    "    \n",
    "    # training loop\n",
    "    for X, y in train_loader:\n",
    "        X = X.to(device)\n",
    "        y = y.to(torch.float32).unsqueeze(1).to(device)     \n",
    "        \n",
    "        model.train()\n",
    "        logits = model(X)  \n",
    "        loss = lossfn(logits, y)\n",
    "        \n",
    "        training_losses.append(loss.item())\n",
    "        optimizer.zero_grad()\n",
    "        loss.backward()\n",
    "        optimizer.step()\n",
    "    \n",
    "    # testing loop\n",
    "    if (epoch+1) % 5 == 0:\n",
    "        avg_training_loss = sum(training_losses)/len(training_losses)\n",
    "        testing_losses = []\n",
    "        accuracy = Accuracy(task='binary').to(device)\n",
    "        precision = Precision(task='binary').to(device)\n",
    "        recall = Recall(task=\"binary\").to(device)\n",
    "\n",
    "        model.eval()\n",
    "        with torch.inference_mode():\n",
    "            \n",
    "            for X, y in test_loader:\n",
    "                X = X.to(device)\n",
    "                y = y.to(torch.float32).unsqueeze(1).to(device)\n",
    "                \n",
    "                logits = model(X)\n",
    "                probs = torch.sigmoid(logits)\n",
    "                preds = (probs>0.5).int()\n",
    "                \n",
    "                \n",
    "                testing_loss = lossfn(logits, y)\n",
    "                testing_losses.append(testing_loss.item())\n",
    "                \n",
    "                accuracy.update(preds, y.int())\n",
    "                precision.update(preds, y.int())\n",
    "                recall.update(preds, y.int())\n",
    "    \n",
    "    \n",
    "    \n",
    "        avg_testing_loss = sum(testing_losses)/len(testing_losses)\n",
    "        acc = accuracy.compute().item()\n",
    "        prec = precision.compute().item()\n",
    "        rec = recall.compute().item()\n",
    "        \n",
    "        print(f\"epoch {epoch} | training loss {avg_training_loss:.4f} | testing loss {avg_testing_loss:.4f} | acc: {acc:.4f} | prec: {prec:.4f} | recall: {rec:.4f}\")\n",
    "        \n",
    "        # saving model progress to file\n",
    "        if (epoch+1) % 5 == 0:\n",
    "            torch.save(model.state_dict(), f\"./models/ver_2/after_{epoch+1}_epochs.pth\")\n",
    "        "
   ]
  }
 ],
 "metadata": {
  "kernelspec": {
   "display_name": ".venv",
   "language": "python",
   "name": "python3"
  },
  "language_info": {
   "codemirror_mode": {
    "name": "ipython",
    "version": 3
   },
   "file_extension": ".py",
   "mimetype": "text/x-python",
   "name": "python",
   "nbconvert_exporter": "python",
   "pygments_lexer": "ipython3",
   "version": "3.12.3"
  }
 },
 "nbformat": 4,
 "nbformat_minor": 5
}
