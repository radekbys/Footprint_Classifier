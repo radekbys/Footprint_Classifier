{
 "cells": [
  {
   "cell_type": "code",
   "execution_count": 1,
   "id": "c8f01aa2",
   "metadata": {},
   "outputs": [],
   "source": [
    "import torch, torchvision\n",
    "from torch import nn\n",
    "from torchvision.datasets import ImageFolder\n",
    "from torchvision.transforms import v2\n",
    "from PIL import Image\n",
    "from torch.utils.data import DataLoader, random_split\n",
    "\n",
    "device = \"cuda\" if torch.cuda.is_available() else \"cpu\"\n"
   ]
  },
  {
   "cell_type": "code",
   "execution_count": 2,
   "id": "509c69ab",
   "metadata": {},
   "outputs": [],
   "source": [
    "# defining class that will load all images into ram memory\n",
    "\n",
    "class InMemoryImageFolder(torch.utils.data.Dataset):\n",
    "    def __init__(self, root, transform=None):\n",
    "        self.dataset = ImageFolder(root=root)\n",
    "        self.transform = transform\n",
    "\n",
    "        # Load all images into memory\n",
    "        self.images = []\n",
    "        self.labels = []\n",
    "\n",
    "        for path, label in self.dataset.samples:\n",
    "            image = Image.open(path).convert('L') # L for grayscale\n",
    "            if self.transform:\n",
    "                image = self.transform(image)\n",
    "            self.images.append(image)\n",
    "            self.labels.append(label)\n",
    "\n",
    "    def __len__(self):\n",
    "        return len(self.images)\n",
    "\n",
    "    def __getitem__(self, idx):\n",
    "        return self.images[idx], self.labels[idx]"
   ]
  },
  {
   "cell_type": "code",
   "execution_count": 3,
   "id": "df7b0e3d",
   "metadata": {},
   "outputs": [],
   "source": [
    "# loading the dataset\n",
    "\n",
    "transforms = v2.Compose([v2.ToImage(), v2.ToDtype(torch.float32, scale=True)])\n",
    "\n",
    "dataset = InMemoryImageFolder(root=\"./dataset\", transform=transforms)"
   ]
  },
  {
   "cell_type": "code",
   "execution_count": 4,
   "id": "2c9e9512",
   "metadata": {},
   "outputs": [
    {
     "data": {
      "text/plain": [
       "torch.Size([1, 360, 640])"
      ]
     },
     "execution_count": 4,
     "metadata": {},
     "output_type": "execute_result"
    }
   ],
   "source": [
    "dataset.images[0].shape"
   ]
  },
  {
   "cell_type": "code",
   "execution_count": 5,
   "id": "4db3f96e",
   "metadata": {},
   "outputs": [
    {
     "data": {
      "text/plain": [
       "(11232, 1248)"
      ]
     },
     "execution_count": 5,
     "metadata": {},
     "output_type": "execute_result"
    }
   ],
   "source": [
    "# dividing dataset into train and test\n",
    "\n",
    "train_size = int(0.9 * len(dataset))\n",
    "test_size = len(dataset) - train_size\n",
    "\n",
    "generator = torch.Generator().manual_seed(42)   # generator must be added for shuffling of data\n",
    "\n",
    "train_dataset, test_dataset = random_split(dataset, [train_size, test_size], generator = torch.Generator().manual_seed(42))\n",
    "len(train_dataset), len(test_dataset)"
   ]
  },
  {
   "cell_type": "code",
   "execution_count": 6,
   "id": "7d8c7187",
   "metadata": {},
   "outputs": [],
   "source": [
    "# creating dataloaders\n",
    "\n",
    "train_loader = DataLoader(train_dataset, batch_size=4, shuffle=True)\n",
    "test_loader = DataLoader(test_dataset, batch_size=4, shuffle=False)"
   ]
  },
  {
   "cell_type": "code",
   "execution_count": 7,
   "id": "b7e9822b",
   "metadata": {},
   "outputs": [],
   "source": [
    "# Defining convolutional model\n",
    "\n",
    "class BinaryFootprintClassifierModel(torch.nn.Module):\n",
    "    def __init__(self):\n",
    "        super().__init__() \n",
    "        \n",
    "        self.layers1 = nn.Sequential(\n",
    "            nn.Conv2d(in_channels=1, out_channels=8, kernel_size=5, padding=2, stride=1),\n",
    "            nn.LeakyReLU(),\n",
    "            nn.Conv2d(in_channels=8, out_channels=32, kernel_size=3, padding=1, stride=1),\n",
    "            nn.LeakyReLU(),\n",
    "            nn.MaxPool2d(kernel_size=5, stride=3),\n",
    "            nn.MaxPool2d(kernel_size=3, stride=2),\n",
    "        )\n",
    "        \n",
    "        with torch.no_grad():\n",
    "            dummy_input = torch.zeros(1, 1, *dataset.images[0].shape[1:])\n",
    "            dummy_output = self.layers1(dummy_input)\n",
    "            self.flattened_size = dummy_output.view(1, -1).shape[1]    \n",
    "            \n",
    "        self.layers2 = nn.Sequential(\n",
    "            nn.Flatten(start_dim=1, end_dim=-1),\n",
    "            nn.Linear(in_features=self.flattened_size, out_features=512),\n",
    "            nn.LeakyReLU(),\n",
    "            nn.Linear(in_features=512, out_features=128),\n",
    "            nn.LeakyReLU(),\n",
    "            nn.Linear(in_features=128, out_features=1),\n",
    "        )\n",
    "        \n",
    "    def forward(self, x):\n",
    "        return self.layers2(self.layers1(x))\n",
    "    \n",
    "model = BinaryFootprintClassifierModel().to(device)"
   ]
  },
  {
   "cell_type": "code",
   "execution_count": 8,
   "id": "c8897bf8",
   "metadata": {},
   "outputs": [],
   "source": [
    "# definning optimoizer and loss function\n",
    "\n",
    "optimizer = torch.optim.Adam(params=model.parameters(), lr=0.00001)\n",
    "lossfn = torch.nn.BCEWithLogitsLoss(pos_weight=torch.tensor([1/7]).to(device)).to(device)     # class 1 is 7 times more common that class 0, dataset is not balanced"
   ]
  },
  {
   "cell_type": "code",
   "execution_count": null,
   "id": "e6fa8b94",
   "metadata": {},
   "outputs": [
    {
     "name": "stdout",
     "output_type": "stream",
     "text": [
      "epoch 0 | training loss 0.1278342129265461\n",
      "epoch 1 | training loss 0.07081187718115137\n",
      "epoch 2 | training loss 0.04950165696167061\n",
      "epoch 3 | training loss 0.03701441557833223\n",
      "epoch 4 | training loss 0.02887316001350739\n",
      "epoch 5 | training loss 0.02348339640082096\n",
      "epoch 6 | training loss 0.01829730362968578\n",
      "epoch 7 | training loss 0.01580826109779394\n",
      "epoch 8 | training loss 0.013352854123154189\n",
      "epoch 9 | training loss 0.010273649119120166\n"
     ]
    }
   ],
   "source": [
    "# creating training loop\n",
    "\n",
    "epochs = 10\n",
    "\n",
    "for epoch in range(epochs):\n",
    "    training_losses = []\n",
    "    \n",
    "    for X, y in train_loader:\n",
    "        X = X.to(device)\n",
    "        y = y.to(torch.float32).unsqueeze(1).to(device)     \n",
    "        \n",
    "        model.train()\n",
    "        logits = model(X)  \n",
    "        loss = lossfn(logits, y)\n",
    "        \n",
    "        training_losses.append(loss.item())\n",
    "        optimizer.zero_grad()\n",
    "        loss.backward()\n",
    "        optimizer.step()\n",
    "    \n",
    "    \n",
    "    if epoch % 1 == 0:\n",
    "        avg_training_loss = sum(training_losses)/len(training_losses)\n",
    "\n",
    "    \n",
    "    \n",
    "    \n",
    "    \n",
    "    \n",
    "        print(f\"epoch {epoch} | training loss {avg_training_loss}\")\n",
    "        "
   ]
  }
 ],
 "metadata": {
  "kernelspec": {
   "display_name": ".venv",
   "language": "python",
   "name": "python3"
  },
  "language_info": {
   "codemirror_mode": {
    "name": "ipython",
    "version": 3
   },
   "file_extension": ".py",
   "mimetype": "text/x-python",
   "name": "python",
   "nbconvert_exporter": "python",
   "pygments_lexer": "ipython3",
   "version": "3.12.3"
  }
 },
 "nbformat": 4,
 "nbformat_minor": 5
}
