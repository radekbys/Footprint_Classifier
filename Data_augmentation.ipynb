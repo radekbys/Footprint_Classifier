{
 "cells": [
  {
   "cell_type": "code",
   "execution_count": 10,
   "id": "765a29c6",
   "metadata": {},
   "outputs": [],
   "source": [
    "import torch\n",
    "import torchvision\n",
    "import PIL\n",
    "from torchvision.datasets import ImageFolder\n",
    "from torchvision.transforms import v2\n",
    "import matplotlib.pyplot as plt\n",
    "import numpy as np\n",
    "import os"
   ]
  },
  {
   "cell_type": "code",
   "execution_count": null,
   "id": "064482ed",
   "metadata": {},
   "outputs": [
    {
     "data": {
      "text/plain": [
       "Dataset ImageFolder\n",
       "    Number of datapoints: 98\n",
       "    Root location: ./initial_images/footprint\n",
       "    StandardTransform\n",
       "Transform: Compose(\n",
       "                 Resize(size=[360, 640], interpolation=InterpolationMode.BILINEAR, antialias=True)\n",
       "                 GaussianBlur(kernel_size=(5, 5), sigma=[0.1, 2.0])\n",
       "           )"
      ]
     },
     "execution_count": 13,
     "metadata": {},
     "output_type": "execute_result"
    }
   ],
   "source": [
    "### Reading initial images and putting base transformations on all\n",
    "\n",
    "transforms =v2.Compose([\n",
    "    v2.Resize(size=(360,640)),\n",
    "    v2.GaussianBlur(kernel_size=5)\n",
    "])\n",
    "\n",
    "imfolder = ImageFolder(\"./initial_images/footprint\", transform=transforms)\n",
    "imfolder2 = ImageFolder(\"./initial_images/not_footprint\", transform=transforms)\n",
    "imfolder"
   ]
  },
  {
   "cell_type": "code",
   "execution_count": 15,
   "id": "27b61fa3",
   "metadata": {},
   "outputs": [],
   "source": [
    "### creating directories and saving images with after base transformations\n",
    "\n",
    "if not os.path.exists(\"./data\"):\n",
    "    os.mkdir(\"./data\")\n",
    "if not os.path.exists(\"./data/base\"):   \n",
    "    os.mkdir(\"./data/base\")\n",
    "if not os.path.exists(\"./data/base/footprint\"):\n",
    "    os.mkdir(\"./data/base/footprint\")\n",
    "if not os.path.exists(\"./data/base/not_footprint\"):    \n",
    "    os.mkdir(\"./data/base/not_footprint\")\n",
    "\n",
    "for idx, target in enumerate(imfolder):\n",
    "    target[0].save(f\"./data/base/footprint/base_{idx}.jpg\")\n",
    "    \n",
    "for idx, target in enumerate(imfolder):\n",
    "    target[0].save(f\"./data/base/not_footprint/base_{idx}.jpg\")\n",
    "    "
   ]
  }
 ],
 "metadata": {
  "kernelspec": {
   "display_name": ".venv",
   "language": "python",
   "name": "python3"
  },
  "language_info": {
   "codemirror_mode": {
    "name": "ipython",
    "version": 3
   },
   "file_extension": ".py",
   "mimetype": "text/x-python",
   "name": "python",
   "nbconvert_exporter": "python",
   "pygments_lexer": "ipython3",
   "version": "3.12.3"
  }
 },
 "nbformat": 4,
 "nbformat_minor": 5
}
