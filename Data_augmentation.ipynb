{
 "cells": [
  {
   "cell_type": "code",
   "execution_count": 2,
   "id": "765a29c6",
   "metadata": {},
   "outputs": [],
   "source": [
    "import torch\n",
    "import torchvision\n",
    "import PIL\n",
    "from torchvision.datasets import ImageFolder\n",
    "from torchvision.transforms import v2\n",
    "import matplotlib.pyplot as plt\n",
    "import numpy as np\n",
    "import os\n",
    "from torch import nn"
   ]
  },
  {
   "cell_type": "code",
   "execution_count": 3,
   "id": "064482ed",
   "metadata": {},
   "outputs": [
    {
     "data": {
      "text/plain": [
       "Dataset ImageFolder\n",
       "    Number of datapoints: 98\n",
       "    Root location: ./initial_images/footprint\n",
       "    StandardTransform\n",
       "Transform: Compose(\n",
       "                 Resize(size=[360, 640], interpolation=InterpolationMode.BILINEAR, antialias=True)\n",
       "                 GaussianBlur(kernel_size=(5, 5), sigma=[0.1, 2.0])\n",
       "           )"
      ]
     },
     "execution_count": 3,
     "metadata": {},
     "output_type": "execute_result"
    }
   ],
   "source": [
    "### Reading initial images and putting base transformations on all\n",
    "\n",
    "transforms =v2.Compose([\n",
    "    v2.Resize(size=(360,640)),\n",
    "    v2.GaussianBlur(kernel_size=5)\n",
    "])\n",
    "\n",
    "imfolder = ImageFolder(\"./initial_images/footprint\", transform=transforms)\n",
    "imfolder2 = ImageFolder(\"./initial_images/not_footprint\", transform=transforms)\n",
    "imfolder"
   ]
  },
  {
   "cell_type": "code",
   "execution_count": 4,
   "id": "27b61fa3",
   "metadata": {},
   "outputs": [],
   "source": [
    "### creating directories and saving images with after base transformations\n",
    "\n",
    "if not os.path.exists(\"./data\"):\n",
    "    os.mkdir(\"./data\")\n",
    "    \n",
    "if not os.path.exists(\"./data/footprint\"):\n",
    "    os.mkdir(\"./data/footprint\")\n",
    "    \n",
    "if not os.path.exists(\"./data/footprint/footprint\"):\n",
    "    os.mkdir(\"./data/footprint/footprint\")   \n",
    "    \n",
    "if not os.path.exists(\"./data/not_footprint\"):    \n",
    "    os.mkdir(\"./data/not_footprint\")\n",
    "\n",
    "if not os.path.exists(\"./data/not_footprint/not_footprint\"):    \n",
    "    os.mkdir(\"./data/not_footprint/not_footprint\")    \n",
    "\n",
    "\n",
    "\n",
    "## incr4easing dataset size using horizontal flip, and inversion\n",
    "\n",
    "flipp_invert = nn.Sequential(\n",
    "    v2.RandomHorizontalFlip(p=1),\n",
    "    v2.RandomInvert(p=1)\n",
    ")\n",
    "\n",
    "for idx, target in enumerate(imfolder):\n",
    "    target[0].save(f\"./data/footprint/footprint/base_{idx}.jpg\")\n",
    "    \n",
    "    flipped = v2.RandomHorizontalFlip(p=1)(target[0])\n",
    "    flipped.save(f\"./data/footprint/footprint/rotated_{idx}.jpg\")\n",
    "    \n",
    "    inverted = v2.RandomInvert(p=1)(target[0])\n",
    "    inverted.save(f\"./data/footprint/footprint/inverted_{idx}.jpg\")\n",
    "    \n",
    "    flipped_inverted = flipp_invert(target[0])\n",
    "    flipped_inverted.save(f\"./data/footprint/footprint/flipped_inverted_{idx}.jpg\")\n",
    "    \n",
    "    \n",
    "    \n",
    "for idx, target in enumerate(imfolder2):\n",
    "    target[0].save(f\"./data/not_footprint/not_footprint/base_{idx}.jpg\")\n",
    "    \n",
    "    flipped = v2.RandomHorizontalFlip(p=1)(target[0])\n",
    "    flipped.save(f\"./data/not_footprint/not_footprint/rotated_{idx}.jpg\")\n",
    "    \n",
    "    inverted = v2.RandomInvert(p=1)(target[0])\n",
    "    inverted.save(f\"./data/not_footprint/not_footprint/inverted_{idx}.jpg\")\n",
    "    \n",
    "    flipped_inverted = flipp_invert(target[0])\n",
    "    flipped_inverted.save(f\"./data/not_footprint/not_footprint/flipped_inverted_{idx}.jpg\")\n",
    "    \n",
    "    "
   ]
  },
  {
   "cell_type": "code",
   "execution_count": 5,
   "id": "d9bbee03",
   "metadata": {},
   "outputs": [],
   "source": [
    "# increasing dataset size using verttical flip\n",
    "\n",
    "transforms2 =v2.Compose([\n",
    "    v2.Resize(size=(360,640)),\n",
    "    v2.RandomVerticalFlip(p=1.0)\n",
    "])\n",
    "\n",
    "imfolder3 = ImageFolder(\"./data/footprint\", transform=transforms2)\n",
    "imfolder4 = ImageFolder(\"./data/not_footprint\", transform=transforms2)\n",
    "\n",
    "for idx, target in enumerate(imfolder3):\n",
    "    target[0].save(f\"./data/footprint/footprint/v_flipped_{idx}.jpg\")\n",
    "    \n",
    "for idx, target in enumerate(imfolder4):\n",
    "    target[0].save(f\"./data/not_footprint/not_footprint/v_flipped_{idx}.jpg\")"
   ]
  },
  {
   "cell_type": "code",
   "execution_count": 6,
   "id": "a74be7df",
   "metadata": {},
   "outputs": [],
   "source": [
    "# doubling dataset size by adding gaussian noise\n",
    "\n",
    "transforms3 =v2.Compose([\n",
    "    v2.Compose([v2.ToImage(), v2.ToDtype(torch.float32, scale=True)]),\n",
    "    v2.GaussianNoise(),\n",
    "    v2.ToPILImage()\n",
    "])\n",
    "\n",
    "imfolder5 = ImageFolder(\"./data/footprint\", transform=transforms3)\n",
    "imfolder6 = ImageFolder(\"./data/not_footprint\", transform=transforms3)\n",
    "\n",
    "for idx, target in enumerate(imfolder5):\n",
    "    target[0].save(f\"./data/footprint/footprint/noised_{idx}.jpg\")\n",
    "    \n",
    "for idx, target in enumerate(imfolder6):\n",
    "    target[0].save(f\"./data/not_footprint/not_footprint/noised_{idx}.jpg\")"
   ]
  },
  {
   "cell_type": "code",
   "execution_count": null,
   "id": "504c754d",
   "metadata": {},
   "outputs": [],
   "source": [
    "# saving finished dataset to a new folder\n",
    "\n",
    "imfolder7 = ImageFolder(\"./data/footprint\")\n",
    "imfolder8 = ImageFolder(\"./data/not_footprint\")\n",
    "\n",
    "\n",
    "if not os.path.exists(\"./dataset\"):\n",
    "    os.mkdir(\"./dataset\")\n",
    "    \n",
    "if not os.path.exists(\"./dataset/1\"):\n",
    "    os.mkdir(\"./dataset/1\")\n",
    "    \n",
    "if not os.path.exists(\"./dataset/0\"):\n",
    "    os.mkdir(\"./dataset/0\")\n",
    "\n",
    "\n",
    "for idx, target in enumerate(imfolder7):\n",
    "    target[0].save(f\"./dataset/1/{idx}.jpg\")\n",
    "    \n",
    "for idx, target in enumerate(imfolder8):\n",
    "    target[0].save(f\"./dataset/0/{idx}.jpg\")"
   ]
  },
  {
   "cell_type": "code",
   "execution_count": 8,
   "id": "7a1bfa8f",
   "metadata": {},
   "outputs": [],
   "source": [
    "# deleting temporary data\n",
    "\n",
    "for root, dirs, files in os.walk(\"./data\", topdown=False):\n",
    "    for file in files:\n",
    "        os.remove(os.path.join(root, file))  # Remove files\n",
    "    for dir in dirs:\n",
    "        os.rmdir(os.path.join(root, dir))    # Remove subdirectories\n",
    "        \n",
    "os.rmdir(\"./data\")"
   ]
  }
 ],
 "metadata": {
  "kernelspec": {
   "display_name": ".venv",
   "language": "python",
   "name": "python3"
  },
  "language_info": {
   "codemirror_mode": {
    "name": "ipython",
    "version": 3
   },
   "file_extension": ".py",
   "mimetype": "text/x-python",
   "name": "python",
   "nbconvert_exporter": "python",
   "pygments_lexer": "ipython3",
   "version": "3.12.3"
  }
 },
 "nbformat": 4,
 "nbformat_minor": 5
}
